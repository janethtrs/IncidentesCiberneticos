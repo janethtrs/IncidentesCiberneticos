{
  "nbformat": 4,
  "nbformat_minor": 0,
  "metadata": {
    "colab": {
      "provenance": []
    },
    "kernelspec": {
      "name": "python3",
      "display_name": "Python 3"
    },
    "language_info": {
      "name": "python"
    }
  },
  "cells": [
    {
      "cell_type": "markdown",
      "source": [
        "## Incidentes cibernéticos entre 2005 y 2020\n",
        "Reportado de parte del Consejo de Relaciones Exteriores\n",
        "\n",
        "El número de filas son 481 y 12 columnas\n",
        "\n",
        "Los datos que se obtienen son el título, fecha, afiliaciones, descripción, respuesta, victimas, categoría y tipo de ataque\n",
        "\n",
        "Se quiere predecir la categoría que seguirá recibiendo un aumento de ataques cibernéticos y de que tipo en los próximos años."
      ],
      "metadata": {
        "id": "6jCp673zzPMk"
      }
    },
    {
      "cell_type": "markdown",
      "source": [],
      "metadata": {
        "id": "AgQ5Zj41oDB9"
      }
    },
    {
      "cell_type": "markdown",
      "source": [
        "**** Se importan librerías a utilizar\n",
        "\n",
        "---\n",
        "\n"
      ],
      "metadata": {
        "id": "F-wVEaFrg288"
      }
    },
    {
      "cell_type": "code",
      "execution_count": 22,
      "metadata": {
        "id": "dcwJIck8l-su"
      },
      "outputs": [],
      "source": [
        "import pandas as pd\n",
        "import matplotlib.pyplot as plt\n",
        "from sklearn.model_selection import train_test_split\n",
        "from sklearn.linear_model import LogisticRegression\n",
        "from sklearn.metrics import accuracy_score\n",
        "import seaborn as sns\n",
        "import seaborn as sn\n",
        "from sklearn.preprocessing import StandardScaler"
      ]
    },
    {
      "cell_type": "markdown",
      "source": [
        "*** Se lee el dataset\n",
        "\n",
        "---\n",
        "\n"
      ],
      "metadata": {
        "id": "oy_FUF_DhBWT"
      }
    },
    {
      "cell_type": "code",
      "source": [
        "df = pd.read_csv('/content/cyber-operations-incidents 2.csv')\n",
        "df.head()"
      ],
      "metadata": {
        "id": "KntOjlkXmBsD",
        "colab": {
          "base_uri": "https://localhost:8080/",
          "height": 635
        },
        "outputId": "d84e069f-e618-438e-9ff8-a38fad6e436e"
      },
      "execution_count": 23,
      "outputs": [
        {
          "output_type": "execute_result",
          "data": {
            "text/plain": [
              "                                               Title       Date Affiliations  \\\n",
              "0                Attack on Austrian foreign ministry  2/13/2020        Turla   \n",
              "1  Spear-phishing campaign against unnamed U.S. g...  1/23/2020  Konni Group   \n",
              "2                     Australian Signals Directorate   4/6/2020          NaN   \n",
              "3                     Catfishing of Israeli soldiers  2/16/2020     APT-C-23   \n",
              "4  Targeting of U.S. companies and government age...  8/10/2020   Fox Kitten   \n",
              "\n",
              "                                         Description  \\\n",
              "0  The suspected Russian hackers conducted a week...   \n",
              "1  The suspected North Korean threat actor Konni ...   \n",
              "2  Responsible for attacking infrastructure that ...   \n",
              "3  The Hamas-associated threat actor APT-C-23 tar...   \n",
              "4  Iranian hackers attacked high-end networking e...   \n",
              "\n",
              "                                            Response  \\\n",
              "0  Confirmation   https://www.theregister.co.uk/2...   \n",
              "1                                                NaN   \n",
              "2                                                NaN   \n",
              "3  Hack Back   https://www.bleepingcomputer.com/n...   \n",
              "4                                                NaN   \n",
              "\n",
              "                                    Victims  \\\n",
              "0                 Austrian Foreign Ministry   \n",
              "1          Employees of the U.S. government   \n",
              "2                                       NaN   \n",
              "3     Israeli Defense Forces (IDF) soldiers   \n",
              "4  U.S. government agencies, U.S. companies   \n",
              "\n",
              "                                   Sponsor              Type  \\\n",
              "0                       Russian Federation         Espionage   \n",
              "1  Korea (Democratic People's Republic of)         Espionage   \n",
              "2                                Australia  Data destruction   \n",
              "3                      Palestine, State of         Espionage   \n",
              "4               Iran (Islamic Republic of)         Espionage   \n",
              "\n",
              "                     Category  \\\n",
              "0                  Government   \n",
              "1                  Government   \n",
              "2              Private sector   \n",
              "3                    Military   \n",
              "4  Government, Private sector   \n",
              "\n",
              "                                           Sources_1  \\\n",
              "0  https://www.theregister.co.uk/2020/02/14/austr...   \n",
              "1  https://unit42.paloaltonetworks.com/the-fractu...   \n",
              "2  https://www.minister.defence.gov.au/minister/l...   \n",
              "3  https://www.bleepingcomputer.com/news/security...   \n",
              "4  https://www.cybersafe.news/fbi-warns-about-ira...   \n",
              "\n",
              "                                           Sources_2 Sources_3  \n",
              "0  https://www.bmeia.gv.at/en/the-ministry/press/...       NaN  \n",
              "1                                                NaN       NaN  \n",
              "2  https://www.zdnet.com/article/australia-on-the...       NaN  \n",
              "3  https://research.checkpoint.com/2020/hamas-and...       NaN  \n",
              "4  https://www.zdnet.com/article/fbi-says-an-iran...       NaN  "
            ],
            "text/html": [
              "\n",
              "  <div id=\"df-8676bf63-060a-460c-b9f3-7199aadec32f\">\n",
              "    <div class=\"colab-df-container\">\n",
              "      <div>\n",
              "<style scoped>\n",
              "    .dataframe tbody tr th:only-of-type {\n",
              "        vertical-align: middle;\n",
              "    }\n",
              "\n",
              "    .dataframe tbody tr th {\n",
              "        vertical-align: top;\n",
              "    }\n",
              "\n",
              "    .dataframe thead th {\n",
              "        text-align: right;\n",
              "    }\n",
              "</style>\n",
              "<table border=\"1\" class=\"dataframe\">\n",
              "  <thead>\n",
              "    <tr style=\"text-align: right;\">\n",
              "      <th></th>\n",
              "      <th>Title</th>\n",
              "      <th>Date</th>\n",
              "      <th>Affiliations</th>\n",
              "      <th>Description</th>\n",
              "      <th>Response</th>\n",
              "      <th>Victims</th>\n",
              "      <th>Sponsor</th>\n",
              "      <th>Type</th>\n",
              "      <th>Category</th>\n",
              "      <th>Sources_1</th>\n",
              "      <th>Sources_2</th>\n",
              "      <th>Sources_3</th>\n",
              "    </tr>\n",
              "  </thead>\n",
              "  <tbody>\n",
              "    <tr>\n",
              "      <th>0</th>\n",
              "      <td>Attack on Austrian foreign ministry</td>\n",
              "      <td>2/13/2020</td>\n",
              "      <td>Turla</td>\n",
              "      <td>The suspected Russian hackers conducted a week...</td>\n",
              "      <td>Confirmation   https://www.theregister.co.uk/2...</td>\n",
              "      <td>Austrian Foreign Ministry</td>\n",
              "      <td>Russian Federation</td>\n",
              "      <td>Espionage</td>\n",
              "      <td>Government</td>\n",
              "      <td>https://www.theregister.co.uk/2020/02/14/austr...</td>\n",
              "      <td>https://www.bmeia.gv.at/en/the-ministry/press/...</td>\n",
              "      <td>NaN</td>\n",
              "    </tr>\n",
              "    <tr>\n",
              "      <th>1</th>\n",
              "      <td>Spear-phishing campaign against unnamed U.S. g...</td>\n",
              "      <td>1/23/2020</td>\n",
              "      <td>Konni Group</td>\n",
              "      <td>The suspected North Korean threat actor Konni ...</td>\n",
              "      <td>NaN</td>\n",
              "      <td>Employees of the U.S. government</td>\n",
              "      <td>Korea (Democratic People's Republic of)</td>\n",
              "      <td>Espionage</td>\n",
              "      <td>Government</td>\n",
              "      <td>https://unit42.paloaltonetworks.com/the-fractu...</td>\n",
              "      <td>NaN</td>\n",
              "      <td>NaN</td>\n",
              "    </tr>\n",
              "    <tr>\n",
              "      <th>2</th>\n",
              "      <td>Australian Signals Directorate</td>\n",
              "      <td>4/6/2020</td>\n",
              "      <td>NaN</td>\n",
              "      <td>Responsible for attacking infrastructure that ...</td>\n",
              "      <td>NaN</td>\n",
              "      <td>NaN</td>\n",
              "      <td>Australia</td>\n",
              "      <td>Data destruction</td>\n",
              "      <td>Private sector</td>\n",
              "      <td>https://www.minister.defence.gov.au/minister/l...</td>\n",
              "      <td>https://www.zdnet.com/article/australia-on-the...</td>\n",
              "      <td>NaN</td>\n",
              "    </tr>\n",
              "    <tr>\n",
              "      <th>3</th>\n",
              "      <td>Catfishing of Israeli soldiers</td>\n",
              "      <td>2/16/2020</td>\n",
              "      <td>APT-C-23</td>\n",
              "      <td>The Hamas-associated threat actor APT-C-23 tar...</td>\n",
              "      <td>Hack Back   https://www.bleepingcomputer.com/n...</td>\n",
              "      <td>Israeli Defense Forces (IDF) soldiers</td>\n",
              "      <td>Palestine, State of</td>\n",
              "      <td>Espionage</td>\n",
              "      <td>Military</td>\n",
              "      <td>https://www.bleepingcomputer.com/news/security...</td>\n",
              "      <td>https://research.checkpoint.com/2020/hamas-and...</td>\n",
              "      <td>NaN</td>\n",
              "    </tr>\n",
              "    <tr>\n",
              "      <th>4</th>\n",
              "      <td>Targeting of U.S. companies and government age...</td>\n",
              "      <td>8/10/2020</td>\n",
              "      <td>Fox Kitten</td>\n",
              "      <td>Iranian hackers attacked high-end networking e...</td>\n",
              "      <td>NaN</td>\n",
              "      <td>U.S. government agencies, U.S. companies</td>\n",
              "      <td>Iran (Islamic Republic of)</td>\n",
              "      <td>Espionage</td>\n",
              "      <td>Government, Private sector</td>\n",
              "      <td>https://www.cybersafe.news/fbi-warns-about-ira...</td>\n",
              "      <td>https://www.zdnet.com/article/fbi-says-an-iran...</td>\n",
              "      <td>NaN</td>\n",
              "    </tr>\n",
              "  </tbody>\n",
              "</table>\n",
              "</div>\n",
              "      <button class=\"colab-df-convert\" onclick=\"convertToInteractive('df-8676bf63-060a-460c-b9f3-7199aadec32f')\"\n",
              "              title=\"Convert this dataframe to an interactive table.\"\n",
              "              style=\"display:none;\">\n",
              "        \n",
              "  <svg xmlns=\"http://www.w3.org/2000/svg\" height=\"24px\"viewBox=\"0 0 24 24\"\n",
              "       width=\"24px\">\n",
              "    <path d=\"M0 0h24v24H0V0z\" fill=\"none\"/>\n",
              "    <path d=\"M18.56 5.44l.94 2.06.94-2.06 2.06-.94-2.06-.94-.94-2.06-.94 2.06-2.06.94zm-11 1L8.5 8.5l.94-2.06 2.06-.94-2.06-.94L8.5 2.5l-.94 2.06-2.06.94zm10 10l.94 2.06.94-2.06 2.06-.94-2.06-.94-.94-2.06-.94 2.06-2.06.94z\"/><path d=\"M17.41 7.96l-1.37-1.37c-.4-.4-.92-.59-1.43-.59-.52 0-1.04.2-1.43.59L10.3 9.45l-7.72 7.72c-.78.78-.78 2.05 0 2.83L4 21.41c.39.39.9.59 1.41.59.51 0 1.02-.2 1.41-.59l7.78-7.78 2.81-2.81c.8-.78.8-2.07 0-2.86zM5.41 20L4 18.59l7.72-7.72 1.47 1.35L5.41 20z\"/>\n",
              "  </svg>\n",
              "      </button>\n",
              "      \n",
              "  <style>\n",
              "    .colab-df-container {\n",
              "      display:flex;\n",
              "      flex-wrap:wrap;\n",
              "      gap: 12px;\n",
              "    }\n",
              "\n",
              "    .colab-df-convert {\n",
              "      background-color: #E8F0FE;\n",
              "      border: none;\n",
              "      border-radius: 50%;\n",
              "      cursor: pointer;\n",
              "      display: none;\n",
              "      fill: #1967D2;\n",
              "      height: 32px;\n",
              "      padding: 0 0 0 0;\n",
              "      width: 32px;\n",
              "    }\n",
              "\n",
              "    .colab-df-convert:hover {\n",
              "      background-color: #E2EBFA;\n",
              "      box-shadow: 0px 1px 2px rgba(60, 64, 67, 0.3), 0px 1px 3px 1px rgba(60, 64, 67, 0.15);\n",
              "      fill: #174EA6;\n",
              "    }\n",
              "\n",
              "    [theme=dark] .colab-df-convert {\n",
              "      background-color: #3B4455;\n",
              "      fill: #D2E3FC;\n",
              "    }\n",
              "\n",
              "    [theme=dark] .colab-df-convert:hover {\n",
              "      background-color: #434B5C;\n",
              "      box-shadow: 0px 1px 3px 1px rgba(0, 0, 0, 0.15);\n",
              "      filter: drop-shadow(0px 1px 2px rgba(0, 0, 0, 0.3));\n",
              "      fill: #FFFFFF;\n",
              "    }\n",
              "  </style>\n",
              "\n",
              "      <script>\n",
              "        const buttonEl =\n",
              "          document.querySelector('#df-8676bf63-060a-460c-b9f3-7199aadec32f button.colab-df-convert');\n",
              "        buttonEl.style.display =\n",
              "          google.colab.kernel.accessAllowed ? 'block' : 'none';\n",
              "\n",
              "        async function convertToInteractive(key) {\n",
              "          const element = document.querySelector('#df-8676bf63-060a-460c-b9f3-7199aadec32f');\n",
              "          const dataTable =\n",
              "            await google.colab.kernel.invokeFunction('convertToInteractive',\n",
              "                                                     [key], {});\n",
              "          if (!dataTable) return;\n",
              "\n",
              "          const docLinkHtml = 'Like what you see? Visit the ' +\n",
              "            '<a target=\"_blank\" href=https://colab.research.google.com/notebooks/data_table.ipynb>data table notebook</a>'\n",
              "            + ' to learn more about interactive tables.';\n",
              "          element.innerHTML = '';\n",
              "          dataTable['output_type'] = 'display_data';\n",
              "          await google.colab.output.renderOutput(dataTable, element);\n",
              "          const docLink = document.createElement('div');\n",
              "          docLink.innerHTML = docLinkHtml;\n",
              "          element.appendChild(docLink);\n",
              "        }\n",
              "      </script>\n",
              "    </div>\n",
              "  </div>\n",
              "  "
            ]
          },
          "metadata": {},
          "execution_count": 23
        }
      ]
    },
    {
      "cell_type": "markdown",
      "source": [
        "**** Se eliminan columnas con las que no se trabajarán\n",
        "\n",
        "---\n",
        "\n"
      ],
      "metadata": {
        "id": "qJHENakuhI0t"
      }
    },
    {
      "cell_type": "code",
      "source": [
        "columns_to_drop = ['Title', 'Affiliations', 'Description', 'Response', 'Victims', 'Sponsor', 'Sources_1', 'Sources_2', 'Sources_3']\n"
      ],
      "metadata": {
        "id": "9J6gMSylARyS"
      },
      "execution_count": 24,
      "outputs": []
    },
    {
      "cell_type": "code",
      "source": [
        "df.drop(columns_to_drop, axis='columns', inplace=True)\n",
        "df.head(10)"
      ],
      "metadata": {
        "colab": {
          "base_uri": "https://localhost:8080/",
          "height": 363
        },
        "id": "LVwvhbBYAg7T",
        "outputId": "3343ac96-0aee-408b-ebea-04d22cc948bd"
      },
      "execution_count": 25,
      "outputs": [
        {
          "output_type": "execute_result",
          "data": {
            "text/plain": [
              "        Date              Type                                   Category\n",
              "0  2/13/2020         Espionage                                 Government\n",
              "1  1/23/2020         Espionage                                 Government\n",
              "2   4/6/2020  Data destruction                             Private sector\n",
              "3  2/16/2020         Espionage                                   Military\n",
              "4  8/10/2020         Espionage                 Government, Private sector\n",
              "5  3/29/2020         Espionage                             Private sector\n",
              "6  5/12/2020   Financial Theft                             Private sector\n",
              "7  8/31/2020         Espionage  Civil society, Private sector, Government\n",
              "8  1/13/2020         Espionage                             Private sector\n",
              "9  1/28/2020         Espionage                              Civil society"
            ],
            "text/html": [
              "\n",
              "  <div id=\"df-eb0e52ee-02fb-4b3e-866c-9f1bd9fbea1d\">\n",
              "    <div class=\"colab-df-container\">\n",
              "      <div>\n",
              "<style scoped>\n",
              "    .dataframe tbody tr th:only-of-type {\n",
              "        vertical-align: middle;\n",
              "    }\n",
              "\n",
              "    .dataframe tbody tr th {\n",
              "        vertical-align: top;\n",
              "    }\n",
              "\n",
              "    .dataframe thead th {\n",
              "        text-align: right;\n",
              "    }\n",
              "</style>\n",
              "<table border=\"1\" class=\"dataframe\">\n",
              "  <thead>\n",
              "    <tr style=\"text-align: right;\">\n",
              "      <th></th>\n",
              "      <th>Date</th>\n",
              "      <th>Type</th>\n",
              "      <th>Category</th>\n",
              "    </tr>\n",
              "  </thead>\n",
              "  <tbody>\n",
              "    <tr>\n",
              "      <th>0</th>\n",
              "      <td>2/13/2020</td>\n",
              "      <td>Espionage</td>\n",
              "      <td>Government</td>\n",
              "    </tr>\n",
              "    <tr>\n",
              "      <th>1</th>\n",
              "      <td>1/23/2020</td>\n",
              "      <td>Espionage</td>\n",
              "      <td>Government</td>\n",
              "    </tr>\n",
              "    <tr>\n",
              "      <th>2</th>\n",
              "      <td>4/6/2020</td>\n",
              "      <td>Data destruction</td>\n",
              "      <td>Private sector</td>\n",
              "    </tr>\n",
              "    <tr>\n",
              "      <th>3</th>\n",
              "      <td>2/16/2020</td>\n",
              "      <td>Espionage</td>\n",
              "      <td>Military</td>\n",
              "    </tr>\n",
              "    <tr>\n",
              "      <th>4</th>\n",
              "      <td>8/10/2020</td>\n",
              "      <td>Espionage</td>\n",
              "      <td>Government, Private sector</td>\n",
              "    </tr>\n",
              "    <tr>\n",
              "      <th>5</th>\n",
              "      <td>3/29/2020</td>\n",
              "      <td>Espionage</td>\n",
              "      <td>Private sector</td>\n",
              "    </tr>\n",
              "    <tr>\n",
              "      <th>6</th>\n",
              "      <td>5/12/2020</td>\n",
              "      <td>Financial Theft</td>\n",
              "      <td>Private sector</td>\n",
              "    </tr>\n",
              "    <tr>\n",
              "      <th>7</th>\n",
              "      <td>8/31/2020</td>\n",
              "      <td>Espionage</td>\n",
              "      <td>Civil society, Private sector, Government</td>\n",
              "    </tr>\n",
              "    <tr>\n",
              "      <th>8</th>\n",
              "      <td>1/13/2020</td>\n",
              "      <td>Espionage</td>\n",
              "      <td>Private sector</td>\n",
              "    </tr>\n",
              "    <tr>\n",
              "      <th>9</th>\n",
              "      <td>1/28/2020</td>\n",
              "      <td>Espionage</td>\n",
              "      <td>Civil society</td>\n",
              "    </tr>\n",
              "  </tbody>\n",
              "</table>\n",
              "</div>\n",
              "      <button class=\"colab-df-convert\" onclick=\"convertToInteractive('df-eb0e52ee-02fb-4b3e-866c-9f1bd9fbea1d')\"\n",
              "              title=\"Convert this dataframe to an interactive table.\"\n",
              "              style=\"display:none;\">\n",
              "        \n",
              "  <svg xmlns=\"http://www.w3.org/2000/svg\" height=\"24px\"viewBox=\"0 0 24 24\"\n",
              "       width=\"24px\">\n",
              "    <path d=\"M0 0h24v24H0V0z\" fill=\"none\"/>\n",
              "    <path d=\"M18.56 5.44l.94 2.06.94-2.06 2.06-.94-2.06-.94-.94-2.06-.94 2.06-2.06.94zm-11 1L8.5 8.5l.94-2.06 2.06-.94-2.06-.94L8.5 2.5l-.94 2.06-2.06.94zm10 10l.94 2.06.94-2.06 2.06-.94-2.06-.94-.94-2.06-.94 2.06-2.06.94z\"/><path d=\"M17.41 7.96l-1.37-1.37c-.4-.4-.92-.59-1.43-.59-.52 0-1.04.2-1.43.59L10.3 9.45l-7.72 7.72c-.78.78-.78 2.05 0 2.83L4 21.41c.39.39.9.59 1.41.59.51 0 1.02-.2 1.41-.59l7.78-7.78 2.81-2.81c.8-.78.8-2.07 0-2.86zM5.41 20L4 18.59l7.72-7.72 1.47 1.35L5.41 20z\"/>\n",
              "  </svg>\n",
              "      </button>\n",
              "      \n",
              "  <style>\n",
              "    .colab-df-container {\n",
              "      display:flex;\n",
              "      flex-wrap:wrap;\n",
              "      gap: 12px;\n",
              "    }\n",
              "\n",
              "    .colab-df-convert {\n",
              "      background-color: #E8F0FE;\n",
              "      border: none;\n",
              "      border-radius: 50%;\n",
              "      cursor: pointer;\n",
              "      display: none;\n",
              "      fill: #1967D2;\n",
              "      height: 32px;\n",
              "      padding: 0 0 0 0;\n",
              "      width: 32px;\n",
              "    }\n",
              "\n",
              "    .colab-df-convert:hover {\n",
              "      background-color: #E2EBFA;\n",
              "      box-shadow: 0px 1px 2px rgba(60, 64, 67, 0.3), 0px 1px 3px 1px rgba(60, 64, 67, 0.15);\n",
              "      fill: #174EA6;\n",
              "    }\n",
              "\n",
              "    [theme=dark] .colab-df-convert {\n",
              "      background-color: #3B4455;\n",
              "      fill: #D2E3FC;\n",
              "    }\n",
              "\n",
              "    [theme=dark] .colab-df-convert:hover {\n",
              "      background-color: #434B5C;\n",
              "      box-shadow: 0px 1px 3px 1px rgba(0, 0, 0, 0.15);\n",
              "      filter: drop-shadow(0px 1px 2px rgba(0, 0, 0, 0.3));\n",
              "      fill: #FFFFFF;\n",
              "    }\n",
              "  </style>\n",
              "\n",
              "      <script>\n",
              "        const buttonEl =\n",
              "          document.querySelector('#df-eb0e52ee-02fb-4b3e-866c-9f1bd9fbea1d button.colab-df-convert');\n",
              "        buttonEl.style.display =\n",
              "          google.colab.kernel.accessAllowed ? 'block' : 'none';\n",
              "\n",
              "        async function convertToInteractive(key) {\n",
              "          const element = document.querySelector('#df-eb0e52ee-02fb-4b3e-866c-9f1bd9fbea1d');\n",
              "          const dataTable =\n",
              "            await google.colab.kernel.invokeFunction('convertToInteractive',\n",
              "                                                     [key], {});\n",
              "          if (!dataTable) return;\n",
              "\n",
              "          const docLinkHtml = 'Like what you see? Visit the ' +\n",
              "            '<a target=\"_blank\" href=https://colab.research.google.com/notebooks/data_table.ipynb>data table notebook</a>'\n",
              "            + ' to learn more about interactive tables.';\n",
              "          element.innerHTML = '';\n",
              "          dataTable['output_type'] = 'display_data';\n",
              "          await google.colab.output.renderOutput(dataTable, element);\n",
              "          const docLink = document.createElement('div');\n",
              "          docLink.innerHTML = docLinkHtml;\n",
              "          element.appendChild(docLink);\n",
              "        }\n",
              "      </script>\n",
              "    </div>\n",
              "  </div>\n",
              "  "
            ]
          },
          "metadata": {},
          "execution_count": 25
        }
      ]
    },
    {
      "cell_type": "markdown",
      "source": [
        "**** Se conoce el tamaño de los datos\n",
        "\n",
        "---\n",
        "\n"
      ],
      "metadata": {
        "id": "ExzBeOhrhP7r"
      }
    },
    {
      "cell_type": "code",
      "source": [
        "df.shape"
      ],
      "metadata": {
        "id": "D9jtDAswBCID",
        "outputId": "97250f8a-ce02-401d-8896-a247eee1074d",
        "colab": {
          "base_uri": "https://localhost:8080/"
        }
      },
      "execution_count": 26,
      "outputs": [
        {
          "output_type": "execute_result",
          "data": {
            "text/plain": [
              "(481, 3)"
            ]
          },
          "metadata": {},
          "execution_count": 26
        }
      ]
    },
    {
      "cell_type": "markdown",
      "source": [
        "*** Se eliminan y cuentan los valores nulos\n",
        "\n",
        "---\n",
        "\n"
      ],
      "metadata": {
        "id": "tSm_XalHhYUs"
      }
    },
    {
      "cell_type": "code",
      "source": [
        "df2= df.dropna()"
      ],
      "metadata": {
        "id": "QsyG5tsxBnk3"
      },
      "execution_count": 27,
      "outputs": []
    },
    {
      "cell_type": "code",
      "source": [
        "df2.shape"
      ],
      "metadata": {
        "colab": {
          "base_uri": "https://localhost:8080/"
        },
        "id": "olNhI7kxIVB5",
        "outputId": "f775ffe9-186e-4c50-8b74-55750116c783"
      },
      "execution_count": 28,
      "outputs": [
        {
          "output_type": "execute_result",
          "data": {
            "text/plain": [
              "(433, 3)"
            ]
          },
          "metadata": {},
          "execution_count": 28
        }
      ]
    },
    {
      "cell_type": "code",
      "source": [
        "df2.isnull().sum()"
      ],
      "metadata": {
        "colab": {
          "base_uri": "https://localhost:8080/"
        },
        "id": "vL62ndTqIYTh",
        "outputId": "08c8d654-13da-4139-b491-585419352fa4"
      },
      "execution_count": 29,
      "outputs": [
        {
          "output_type": "execute_result",
          "data": {
            "text/plain": [
              "Date        0\n",
              "Type        0\n",
              "Category    0\n",
              "dtype: int64"
            ]
          },
          "metadata": {},
          "execution_count": 29
        }
      ]
    },
    {
      "cell_type": "markdown",
      "source": [
        "\n",
        "**** Se agrupan los datos para conocer el número de ataques agrupados por tipo \n",
        "\n",
        "---\n",
        "\n",
        "de ataque con la categoría que recibió el ataque"
      ],
      "metadata": {
        "id": "KHY2UfamhdqY"
      }
    },
    {
      "cell_type": "code",
      "source": [
        "df2.groupby(['Type','Category'])['Category'].count()\n"
      ],
      "metadata": {
        "colab": {
          "base_uri": "https://localhost:8080/"
        },
        "id": "ItA-qH5LIu5H",
        "outputId": "38821297-bddd-41b9-adb9-b611c641de97"
      },
      "execution_count": 104,
      "outputs": [
        {
          "output_type": "execute_result",
          "data": {
            "text/plain": [
              "Type               Category                                           \n",
              "Data destruction   Government                                              2\n",
              "                   Government, Private sector                              1\n",
              "                   Military, Private sector                                1\n",
              "                   Private sector                                          9\n",
              "                   Private sector, Government                              1\n",
              "Defacement         Government                                              1\n",
              "                   Government, Military                                    1\n",
              "                   Private sector                                          3\n",
              "Denial of service  Civil society, Private sector                           1\n",
              "                   Government                                              5\n",
              "                   Government, Military                                    2\n",
              "                   Government, Private sector                              1\n",
              "                   Military                                                1\n",
              "                   Military, Government                                    1\n",
              "                   Private sector                                          7\n",
              "Doxing             Civil society                                           3\n",
              "                   Government, Civil society                               2\n",
              "                   Private sector                                          1\n",
              "Espionage          Civil society                                          46\n",
              "                   Civil society, Government                               5\n",
              "                   Civil society, Private sector                           5\n",
              "                   Civil society, Private sector, Government               2\n",
              "                   Government                                             89\n",
              "                   Government, Civil society                              12\n",
              "                   Government, Civil society, Private sector               1\n",
              "                   Government, Military                                   14\n",
              "                   Government, Private sector                             42\n",
              "                   Government, Private sector, Civil society              11\n",
              "                   Military                                               17\n",
              "                   Military, Civil society                                 2\n",
              "                   Military, Government                                    7\n",
              "                   Military, Government, Civil society                     1\n",
              "                   Military, Private sector                                2\n",
              "                   Private sector                                         86\n",
              "                   Private sector, Civil society                           2\n",
              "                   Private sector, Government                             11\n",
              "                   Private sector, Government, Civil society               1\n",
              "                   Private sector, Government, Civil society, Military     1\n",
              "                   Private sector, Government, Military, Civil society     1\n",
              "                   Private sector, Military                                3\n",
              "Financial Theft    Government                                              1\n",
              "                   Private sector                                          6\n",
              "Sabotage           Civil society                                           3\n",
              "                   Government                                              4\n",
              "                   Government, Private sector                              1\n",
              "                   Government, Private sector, Civil society               1\n",
              "                   Military                                                3\n",
              "                   Private sector                                         10\n",
              "Name: Category, dtype: int64"
            ]
          },
          "metadata": {},
          "execution_count": 104
        }
      ]
    },
    {
      "cell_type": "markdown",
      "source": [
        "**** Se cuentan los ataques agrupados por la categoría cada día\n",
        "\n",
        "---\n",
        "\n"
      ],
      "metadata": {
        "id": "R5zrmyFAhn9s"
      }
    },
    {
      "cell_type": "code",
      "source": [
        "df2.groupby(['Date','Category'])[\"Category\"].count()"
      ],
      "metadata": {
        "colab": {
          "base_uri": "https://localhost:8080/"
        },
        "id": "9JGOcySeNYjk",
        "outputId": "6f1e53fb-b173-42b2-ad9b-0cc9ad893d69"
      },
      "execution_count": 31,
      "outputs": [
        {
          "output_type": "execute_result",
          "data": {
            "text/plain": [
              "Date       Category                  \n",
              "1/1/2013   Private sector, Military      1\n",
              "1/1/2018   Government, Private sector    1\n",
              "1/12/2007  Military                      1\n",
              "1/12/2010  Private sector                1\n",
              "1/12/2016  Government, Civil society     1\n",
              "                                        ..\n",
              "9/5/2019   Civil society                 1\n",
              "9/6/2011   Government, Private sector    1\n",
              "9/6/2018   Private sector                3\n",
              "9/8/2014   Private sector                1\n",
              "9/9/2007   Military                      1\n",
              "Name: Category, Length: 410, dtype: int64"
            ]
          },
          "metadata": {},
          "execution_count": 31
        }
      ]
    },
    {
      "cell_type": "markdown",
      "source": [
        "*** Se cuentan los ataques agrupados por el tipo de ataque diario\n",
        "\n",
        "---\n",
        "\n"
      ],
      "metadata": {
        "id": "j34sAcb7h-0N"
      }
    },
    {
      "cell_type": "code",
      "source": [
        "df2.groupby(['Date','Type'])[\"Type\"].count()"
      ],
      "metadata": {
        "colab": {
          "base_uri": "https://localhost:8080/"
        },
        "id": "x2tHd3ypQCO3",
        "outputId": "00c9287a-976a-48be-e565-a44f9a3e2850"
      },
      "execution_count": 32,
      "outputs": [
        {
          "output_type": "execute_result",
          "data": {
            "text/plain": [
              "Date       Type      \n",
              "1/1/2013   Espionage     1\n",
              "1/1/2018   Espionage     1\n",
              "1/12/2007  Espionage     1\n",
              "1/12/2010  Defacement    1\n",
              "1/12/2016  Espionage     1\n",
              "                        ..\n",
              "9/5/2019   Espionage     1\n",
              "9/6/2011   Espionage     1\n",
              "9/6/2018   Espionage     3\n",
              "9/8/2014   Espionage     1\n",
              "9/9/2007   Espionage     1\n",
              "Name: Type, Length: 393, dtype: int64"
            ]
          },
          "metadata": {},
          "execution_count": 32
        }
      ]
    },
    {
      "cell_type": "markdown",
      "source": [
        "**** Se cuenta el número de ataques agrupados por tipos\n",
        "\n",
        "---\n",
        "\n"
      ],
      "metadata": {
        "id": "1WK20U62iEsO"
      }
    },
    {
      "cell_type": "code",
      "source": [
        "cyber_incidents = df['Type'].value_counts()\n",
        "cyber_incidents.head(15)"
      ],
      "metadata": {
        "colab": {
          "base_uri": "https://localhost:8080/"
        },
        "id": "sQccGr1zii1Z",
        "outputId": "270afc69-74d6-4cb7-bdc2-6315f10b3f95"
      },
      "execution_count": 97,
      "outputs": [
        {
          "output_type": "execute_result",
          "data": {
            "text/plain": [
              "Espionage            374\n",
              "Sabotage              23\n",
              "Denial of service     18\n",
              "Data destruction      14\n",
              "Financial Theft        7\n",
              "Doxing                 6\n",
              "Defacement             5\n",
              "Name: Type, dtype: int64"
            ]
          },
          "metadata": {},
          "execution_count": 97
        }
      ]
    },
    {
      "cell_type": "code",
      "source": [
        "cyber_incidents2 = df['Category'].value_counts()\n",
        "cyber_incidents2"
      ],
      "metadata": {
        "colab": {
          "base_uri": "https://localhost:8080/"
        },
        "id": "9tEGJLP6mCng",
        "outputId": "4d9dd6da-7a8f-4f48-e57b-19fac27f9921"
      },
      "execution_count": 113,
      "outputs": [
        {
          "output_type": "execute_result",
          "data": {
            "text/plain": [
              "Private sector                                         128\n",
              "Government                                             104\n",
              "Government, Private sector                              55\n",
              "Civil society                                           52\n",
              "Military                                                21\n",
              "Government, Military                                    17\n",
              "Government, Civil society                               15\n",
              "Private sector, Government                              14\n",
              "Government, Private sector, Civil society               12\n",
              "Military, Government                                     8\n",
              "Civil society, Government                                6\n",
              "Civil society, Private sector                            6\n",
              "Private sector, Military                                 4\n",
              "Military, Private sector                                 3\n",
              "Military, Civil society                                  2\n",
              "Private sector, Civil society                            2\n",
              "Civil society, Private sector, Government                2\n",
              "Government, Military, Private sector                     1\n",
              "Private sector, Government, Military, Civil society      1\n",
              "Government, Civil society, Private sector                1\n",
              "Military, Government, Civil society                      1\n",
              "Private sector, Government, Civil society, Military      1\n",
              "Private sector, Government, Civil society                1\n",
              "Civil society, Private sector, Military, Government      1\n",
              "Name: Category, dtype: int64"
            ]
          },
          "metadata": {},
          "execution_count": 113
        }
      ]
    },
    {
      "cell_type": "markdown",
      "source": [
        "*** Se dividen los datos en entrenamiento y prueba\n",
        "\n",
        "---\n",
        "\n"
      ],
      "metadata": {
        "id": "OPyOm0fjjLbd"
      }
    },
    {
      "cell_type": "code",
      "source": [
        "X= df2.drop(['Type'], axis = 1)\n",
        "Y = df2[['Type']]"
      ],
      "metadata": {
        "id": "KmzFLoW3bcg-"
      },
      "execution_count": 34,
      "outputs": []
    },
    {
      "cell_type": "code",
      "source": [
        "X_Train,X_Test,Y_Train,Y_Test = train_test_split(X,Y,test_size = 0.2, random_state = 10)"
      ],
      "metadata": {
        "id": "mSCNqEhvbi2Y"
      },
      "execution_count": 35,
      "outputs": []
    },
    {
      "cell_type": "code",
      "source": [
        "X_Test"
      ],
      "metadata": {
        "colab": {
          "base_uri": "https://localhost:8080/",
          "height": 424
        },
        "id": "52Xe8ojHbllp",
        "outputId": "9799dc81-2357-469d-c34b-f7972c802917"
      },
      "execution_count": 36,
      "outputs": [
        {
          "output_type": "execute_result",
          "data": {
            "text/plain": [
              "           Date                                   Category\n",
              "92     4/4/2019                             Private sector\n",
              "410   5/20/2013                             Private sector\n",
              "94   10/21/2019        Military, Government, Civil society\n",
              "117    9/5/2019                              Civil society\n",
              "298  12/13/2016                             Private sector\n",
              "..          ...                                        ...\n",
              "449   3/20/2009                                 Government\n",
              "133    8/7/2019                 Government, Private sector\n",
              "421   9/18/2012                             Private sector\n",
              "274   7/16/2017                                 Government\n",
              "339   5/14/2015  Government, Private sector, Civil society\n",
              "\n",
              "[87 rows x 2 columns]"
            ],
            "text/html": [
              "\n",
              "  <div id=\"df-5c8c8c16-7dcd-490c-a19d-79150c96c19c\">\n",
              "    <div class=\"colab-df-container\">\n",
              "      <div>\n",
              "<style scoped>\n",
              "    .dataframe tbody tr th:only-of-type {\n",
              "        vertical-align: middle;\n",
              "    }\n",
              "\n",
              "    .dataframe tbody tr th {\n",
              "        vertical-align: top;\n",
              "    }\n",
              "\n",
              "    .dataframe thead th {\n",
              "        text-align: right;\n",
              "    }\n",
              "</style>\n",
              "<table border=\"1\" class=\"dataframe\">\n",
              "  <thead>\n",
              "    <tr style=\"text-align: right;\">\n",
              "      <th></th>\n",
              "      <th>Date</th>\n",
              "      <th>Category</th>\n",
              "    </tr>\n",
              "  </thead>\n",
              "  <tbody>\n",
              "    <tr>\n",
              "      <th>92</th>\n",
              "      <td>4/4/2019</td>\n",
              "      <td>Private sector</td>\n",
              "    </tr>\n",
              "    <tr>\n",
              "      <th>410</th>\n",
              "      <td>5/20/2013</td>\n",
              "      <td>Private sector</td>\n",
              "    </tr>\n",
              "    <tr>\n",
              "      <th>94</th>\n",
              "      <td>10/21/2019</td>\n",
              "      <td>Military, Government, Civil society</td>\n",
              "    </tr>\n",
              "    <tr>\n",
              "      <th>117</th>\n",
              "      <td>9/5/2019</td>\n",
              "      <td>Civil society</td>\n",
              "    </tr>\n",
              "    <tr>\n",
              "      <th>298</th>\n",
              "      <td>12/13/2016</td>\n",
              "      <td>Private sector</td>\n",
              "    </tr>\n",
              "    <tr>\n",
              "      <th>...</th>\n",
              "      <td>...</td>\n",
              "      <td>...</td>\n",
              "    </tr>\n",
              "    <tr>\n",
              "      <th>449</th>\n",
              "      <td>3/20/2009</td>\n",
              "      <td>Government</td>\n",
              "    </tr>\n",
              "    <tr>\n",
              "      <th>133</th>\n",
              "      <td>8/7/2019</td>\n",
              "      <td>Government, Private sector</td>\n",
              "    </tr>\n",
              "    <tr>\n",
              "      <th>421</th>\n",
              "      <td>9/18/2012</td>\n",
              "      <td>Private sector</td>\n",
              "    </tr>\n",
              "    <tr>\n",
              "      <th>274</th>\n",
              "      <td>7/16/2017</td>\n",
              "      <td>Government</td>\n",
              "    </tr>\n",
              "    <tr>\n",
              "      <th>339</th>\n",
              "      <td>5/14/2015</td>\n",
              "      <td>Government, Private sector, Civil society</td>\n",
              "    </tr>\n",
              "  </tbody>\n",
              "</table>\n",
              "<p>87 rows × 2 columns</p>\n",
              "</div>\n",
              "      <button class=\"colab-df-convert\" onclick=\"convertToInteractive('df-5c8c8c16-7dcd-490c-a19d-79150c96c19c')\"\n",
              "              title=\"Convert this dataframe to an interactive table.\"\n",
              "              style=\"display:none;\">\n",
              "        \n",
              "  <svg xmlns=\"http://www.w3.org/2000/svg\" height=\"24px\"viewBox=\"0 0 24 24\"\n",
              "       width=\"24px\">\n",
              "    <path d=\"M0 0h24v24H0V0z\" fill=\"none\"/>\n",
              "    <path d=\"M18.56 5.44l.94 2.06.94-2.06 2.06-.94-2.06-.94-.94-2.06-.94 2.06-2.06.94zm-11 1L8.5 8.5l.94-2.06 2.06-.94-2.06-.94L8.5 2.5l-.94 2.06-2.06.94zm10 10l.94 2.06.94-2.06 2.06-.94-2.06-.94-.94-2.06-.94 2.06-2.06.94z\"/><path d=\"M17.41 7.96l-1.37-1.37c-.4-.4-.92-.59-1.43-.59-.52 0-1.04.2-1.43.59L10.3 9.45l-7.72 7.72c-.78.78-.78 2.05 0 2.83L4 21.41c.39.39.9.59 1.41.59.51 0 1.02-.2 1.41-.59l7.78-7.78 2.81-2.81c.8-.78.8-2.07 0-2.86zM5.41 20L4 18.59l7.72-7.72 1.47 1.35L5.41 20z\"/>\n",
              "  </svg>\n",
              "      </button>\n",
              "      \n",
              "  <style>\n",
              "    .colab-df-container {\n",
              "      display:flex;\n",
              "      flex-wrap:wrap;\n",
              "      gap: 12px;\n",
              "    }\n",
              "\n",
              "    .colab-df-convert {\n",
              "      background-color: #E8F0FE;\n",
              "      border: none;\n",
              "      border-radius: 50%;\n",
              "      cursor: pointer;\n",
              "      display: none;\n",
              "      fill: #1967D2;\n",
              "      height: 32px;\n",
              "      padding: 0 0 0 0;\n",
              "      width: 32px;\n",
              "    }\n",
              "\n",
              "    .colab-df-convert:hover {\n",
              "      background-color: #E2EBFA;\n",
              "      box-shadow: 0px 1px 2px rgba(60, 64, 67, 0.3), 0px 1px 3px 1px rgba(60, 64, 67, 0.15);\n",
              "      fill: #174EA6;\n",
              "    }\n",
              "\n",
              "    [theme=dark] .colab-df-convert {\n",
              "      background-color: #3B4455;\n",
              "      fill: #D2E3FC;\n",
              "    }\n",
              "\n",
              "    [theme=dark] .colab-df-convert:hover {\n",
              "      background-color: #434B5C;\n",
              "      box-shadow: 0px 1px 3px 1px rgba(0, 0, 0, 0.15);\n",
              "      filter: drop-shadow(0px 1px 2px rgba(0, 0, 0, 0.3));\n",
              "      fill: #FFFFFF;\n",
              "    }\n",
              "  </style>\n",
              "\n",
              "      <script>\n",
              "        const buttonEl =\n",
              "          document.querySelector('#df-5c8c8c16-7dcd-490c-a19d-79150c96c19c button.colab-df-convert');\n",
              "        buttonEl.style.display =\n",
              "          google.colab.kernel.accessAllowed ? 'block' : 'none';\n",
              "\n",
              "        async function convertToInteractive(key) {\n",
              "          const element = document.querySelector('#df-5c8c8c16-7dcd-490c-a19d-79150c96c19c');\n",
              "          const dataTable =\n",
              "            await google.colab.kernel.invokeFunction('convertToInteractive',\n",
              "                                                     [key], {});\n",
              "          if (!dataTable) return;\n",
              "\n",
              "          const docLinkHtml = 'Like what you see? Visit the ' +\n",
              "            '<a target=\"_blank\" href=https://colab.research.google.com/notebooks/data_table.ipynb>data table notebook</a>'\n",
              "            + ' to learn more about interactive tables.';\n",
              "          element.innerHTML = '';\n",
              "          dataTable['output_type'] = 'display_data';\n",
              "          await google.colab.output.renderOutput(dataTable, element);\n",
              "          const docLink = document.createElement('div');\n",
              "          docLink.innerHTML = docLinkHtml;\n",
              "          element.appendChild(docLink);\n",
              "        }\n",
              "      </script>\n",
              "    </div>\n",
              "  </div>\n",
              "  "
            ]
          },
          "metadata": {},
          "execution_count": 36
        }
      ]
    },
    {
      "cell_type": "code",
      "source": [
        "Y_Train"
      ],
      "metadata": {
        "colab": {
          "base_uri": "https://localhost:8080/",
          "height": 424
        },
        "id": "-V5Tf09bbtSa",
        "outputId": "d8693378-d838-471b-ad4f-641123bb6aa0"
      },
      "execution_count": 37,
      "outputs": [
        {
          "output_type": "execute_result",
          "data": {
            "text/plain": [
              "          Type\n",
              "472  Espionage\n",
              "346  Espionage\n",
              "105  Espionage\n",
              "357  Espionage\n",
              "98   Espionage\n",
              "..         ...\n",
              "409  Espionage\n",
              "359  Espionage\n",
              "15   Espionage\n",
              "151  Espionage\n",
              "303   Sabotage\n",
              "\n",
              "[346 rows x 1 columns]"
            ],
            "text/html": [
              "\n",
              "  <div id=\"df-6a105980-7b06-4bc9-9aa3-69ab72f7f40c\">\n",
              "    <div class=\"colab-df-container\">\n",
              "      <div>\n",
              "<style scoped>\n",
              "    .dataframe tbody tr th:only-of-type {\n",
              "        vertical-align: middle;\n",
              "    }\n",
              "\n",
              "    .dataframe tbody tr th {\n",
              "        vertical-align: top;\n",
              "    }\n",
              "\n",
              "    .dataframe thead th {\n",
              "        text-align: right;\n",
              "    }\n",
              "</style>\n",
              "<table border=\"1\" class=\"dataframe\">\n",
              "  <thead>\n",
              "    <tr style=\"text-align: right;\">\n",
              "      <th></th>\n",
              "      <th>Type</th>\n",
              "    </tr>\n",
              "  </thead>\n",
              "  <tbody>\n",
              "    <tr>\n",
              "      <th>472</th>\n",
              "      <td>Espionage</td>\n",
              "    </tr>\n",
              "    <tr>\n",
              "      <th>346</th>\n",
              "      <td>Espionage</td>\n",
              "    </tr>\n",
              "    <tr>\n",
              "      <th>105</th>\n",
              "      <td>Espionage</td>\n",
              "    </tr>\n",
              "    <tr>\n",
              "      <th>357</th>\n",
              "      <td>Espionage</td>\n",
              "    </tr>\n",
              "    <tr>\n",
              "      <th>98</th>\n",
              "      <td>Espionage</td>\n",
              "    </tr>\n",
              "    <tr>\n",
              "      <th>...</th>\n",
              "      <td>...</td>\n",
              "    </tr>\n",
              "    <tr>\n",
              "      <th>409</th>\n",
              "      <td>Espionage</td>\n",
              "    </tr>\n",
              "    <tr>\n",
              "      <th>359</th>\n",
              "      <td>Espionage</td>\n",
              "    </tr>\n",
              "    <tr>\n",
              "      <th>15</th>\n",
              "      <td>Espionage</td>\n",
              "    </tr>\n",
              "    <tr>\n",
              "      <th>151</th>\n",
              "      <td>Espionage</td>\n",
              "    </tr>\n",
              "    <tr>\n",
              "      <th>303</th>\n",
              "      <td>Sabotage</td>\n",
              "    </tr>\n",
              "  </tbody>\n",
              "</table>\n",
              "<p>346 rows × 1 columns</p>\n",
              "</div>\n",
              "      <button class=\"colab-df-convert\" onclick=\"convertToInteractive('df-6a105980-7b06-4bc9-9aa3-69ab72f7f40c')\"\n",
              "              title=\"Convert this dataframe to an interactive table.\"\n",
              "              style=\"display:none;\">\n",
              "        \n",
              "  <svg xmlns=\"http://www.w3.org/2000/svg\" height=\"24px\"viewBox=\"0 0 24 24\"\n",
              "       width=\"24px\">\n",
              "    <path d=\"M0 0h24v24H0V0z\" fill=\"none\"/>\n",
              "    <path d=\"M18.56 5.44l.94 2.06.94-2.06 2.06-.94-2.06-.94-.94-2.06-.94 2.06-2.06.94zm-11 1L8.5 8.5l.94-2.06 2.06-.94-2.06-.94L8.5 2.5l-.94 2.06-2.06.94zm10 10l.94 2.06.94-2.06 2.06-.94-2.06-.94-.94-2.06-.94 2.06-2.06.94z\"/><path d=\"M17.41 7.96l-1.37-1.37c-.4-.4-.92-.59-1.43-.59-.52 0-1.04.2-1.43.59L10.3 9.45l-7.72 7.72c-.78.78-.78 2.05 0 2.83L4 21.41c.39.39.9.59 1.41.59.51 0 1.02-.2 1.41-.59l7.78-7.78 2.81-2.81c.8-.78.8-2.07 0-2.86zM5.41 20L4 18.59l7.72-7.72 1.47 1.35L5.41 20z\"/>\n",
              "  </svg>\n",
              "      </button>\n",
              "      \n",
              "  <style>\n",
              "    .colab-df-container {\n",
              "      display:flex;\n",
              "      flex-wrap:wrap;\n",
              "      gap: 12px;\n",
              "    }\n",
              "\n",
              "    .colab-df-convert {\n",
              "      background-color: #E8F0FE;\n",
              "      border: none;\n",
              "      border-radius: 50%;\n",
              "      cursor: pointer;\n",
              "      display: none;\n",
              "      fill: #1967D2;\n",
              "      height: 32px;\n",
              "      padding: 0 0 0 0;\n",
              "      width: 32px;\n",
              "    }\n",
              "\n",
              "    .colab-df-convert:hover {\n",
              "      background-color: #E2EBFA;\n",
              "      box-shadow: 0px 1px 2px rgba(60, 64, 67, 0.3), 0px 1px 3px 1px rgba(60, 64, 67, 0.15);\n",
              "      fill: #174EA6;\n",
              "    }\n",
              "\n",
              "    [theme=dark] .colab-df-convert {\n",
              "      background-color: #3B4455;\n",
              "      fill: #D2E3FC;\n",
              "    }\n",
              "\n",
              "    [theme=dark] .colab-df-convert:hover {\n",
              "      background-color: #434B5C;\n",
              "      box-shadow: 0px 1px 3px 1px rgba(0, 0, 0, 0.15);\n",
              "      filter: drop-shadow(0px 1px 2px rgba(0, 0, 0, 0.3));\n",
              "      fill: #FFFFFF;\n",
              "    }\n",
              "  </style>\n",
              "\n",
              "      <script>\n",
              "        const buttonEl =\n",
              "          document.querySelector('#df-6a105980-7b06-4bc9-9aa3-69ab72f7f40c button.colab-df-convert');\n",
              "        buttonEl.style.display =\n",
              "          google.colab.kernel.accessAllowed ? 'block' : 'none';\n",
              "\n",
              "        async function convertToInteractive(key) {\n",
              "          const element = document.querySelector('#df-6a105980-7b06-4bc9-9aa3-69ab72f7f40c');\n",
              "          const dataTable =\n",
              "            await google.colab.kernel.invokeFunction('convertToInteractive',\n",
              "                                                     [key], {});\n",
              "          if (!dataTable) return;\n",
              "\n",
              "          const docLinkHtml = 'Like what you see? Visit the ' +\n",
              "            '<a target=\"_blank\" href=https://colab.research.google.com/notebooks/data_table.ipynb>data table notebook</a>'\n",
              "            + ' to learn more about interactive tables.';\n",
              "          element.innerHTML = '';\n",
              "          dataTable['output_type'] = 'display_data';\n",
              "          await google.colab.output.renderOutput(dataTable, element);\n",
              "          const docLink = document.createElement('div');\n",
              "          docLink.innerHTML = docLinkHtml;\n",
              "          element.appendChild(docLink);\n",
              "        }\n",
              "      </script>\n",
              "    </div>\n",
              "  </div>\n",
              "  "
            ]
          },
          "metadata": {},
          "execution_count": 37
        }
      ]
    },
    {
      "cell_type": "code",
      "source": [
        "print(f\"X_Train:{X_Train.shape[0]}\")\n",
        "print(f\"X_Test:{X_Test.shape[0]}\")\n",
        "print(f\"Y_Train:{Y_Train.shape[0]}\")\n",
        "print(f\"Y_Test:{Y_Test.shape[0]}\")"
      ],
      "metadata": {
        "colab": {
          "base_uri": "https://localhost:8080/"
        },
        "id": "faysW7qQbv6H",
        "outputId": "704df3a6-c449-4720-d1a1-7ee7e6c9e20d"
      },
      "execution_count": 38,
      "outputs": [
        {
          "output_type": "stream",
          "name": "stdout",
          "text": [
            "X_Train:346\n",
            "X_Test:87\n",
            "Y_Train:346\n",
            "Y_Test:87\n"
          ]
        }
      ]
    },
    {
      "cell_type": "markdown",
      "source": [
        "*** Se definen valores 'x' y 'y' utilizando indicadores get dummy\n",
        "\n",
        "---\n",
        "\n"
      ],
      "metadata": {
        "id": "19dzEtU7kd7A"
      }
    },
    {
      "cell_type": "code",
      "source": [
        "x = df2.iloc[:,1]\n",
        "y = df2.iloc[: , -1]"
      ],
      "metadata": {
        "id": "CQXxLsRCjeYw"
      },
      "execution_count": 39,
      "outputs": []
    },
    {
      "cell_type": "markdown",
      "source": [
        "** Utilizamos get dummies ya que permite eliminar la primera de las columnas generadas para cada característica codificada"
      ],
      "metadata": {
        "id": "ZQ8zAwNCNGTp"
      }
    },
    {
      "cell_type": "code",
      "source": [
        "features_final = pd.get_dummies(x, drop_first=True)\n",
        "features_final.head()"
      ],
      "metadata": {
        "colab": {
          "base_uri": "https://localhost:8080/",
          "height": 206
        },
        "id": "aLxN6ZQfdqf5",
        "outputId": "0ed5f213-3715-4897-e18c-dbc2c19a1d46"
      },
      "execution_count": 40,
      "outputs": [
        {
          "output_type": "execute_result",
          "data": {
            "text/plain": [
              "   Defacement  Denial of service  Doxing  Espionage  Financial Theft  Sabotage\n",
              "0           0                  0       0          1                0         0\n",
              "1           0                  0       0          1                0         0\n",
              "2           0                  0       0          0                0         0\n",
              "3           0                  0       0          1                0         0\n",
              "4           0                  0       0          1                0         0"
            ],
            "text/html": [
              "\n",
              "  <div id=\"df-99e49bfa-74fc-4d84-90f0-1f28b4ecfc22\">\n",
              "    <div class=\"colab-df-container\">\n",
              "      <div>\n",
              "<style scoped>\n",
              "    .dataframe tbody tr th:only-of-type {\n",
              "        vertical-align: middle;\n",
              "    }\n",
              "\n",
              "    .dataframe tbody tr th {\n",
              "        vertical-align: top;\n",
              "    }\n",
              "\n",
              "    .dataframe thead th {\n",
              "        text-align: right;\n",
              "    }\n",
              "</style>\n",
              "<table border=\"1\" class=\"dataframe\">\n",
              "  <thead>\n",
              "    <tr style=\"text-align: right;\">\n",
              "      <th></th>\n",
              "      <th>Defacement</th>\n",
              "      <th>Denial of service</th>\n",
              "      <th>Doxing</th>\n",
              "      <th>Espionage</th>\n",
              "      <th>Financial Theft</th>\n",
              "      <th>Sabotage</th>\n",
              "    </tr>\n",
              "  </thead>\n",
              "  <tbody>\n",
              "    <tr>\n",
              "      <th>0</th>\n",
              "      <td>0</td>\n",
              "      <td>0</td>\n",
              "      <td>0</td>\n",
              "      <td>1</td>\n",
              "      <td>0</td>\n",
              "      <td>0</td>\n",
              "    </tr>\n",
              "    <tr>\n",
              "      <th>1</th>\n",
              "      <td>0</td>\n",
              "      <td>0</td>\n",
              "      <td>0</td>\n",
              "      <td>1</td>\n",
              "      <td>0</td>\n",
              "      <td>0</td>\n",
              "    </tr>\n",
              "    <tr>\n",
              "      <th>2</th>\n",
              "      <td>0</td>\n",
              "      <td>0</td>\n",
              "      <td>0</td>\n",
              "      <td>0</td>\n",
              "      <td>0</td>\n",
              "      <td>0</td>\n",
              "    </tr>\n",
              "    <tr>\n",
              "      <th>3</th>\n",
              "      <td>0</td>\n",
              "      <td>0</td>\n",
              "      <td>0</td>\n",
              "      <td>1</td>\n",
              "      <td>0</td>\n",
              "      <td>0</td>\n",
              "    </tr>\n",
              "    <tr>\n",
              "      <th>4</th>\n",
              "      <td>0</td>\n",
              "      <td>0</td>\n",
              "      <td>0</td>\n",
              "      <td>1</td>\n",
              "      <td>0</td>\n",
              "      <td>0</td>\n",
              "    </tr>\n",
              "  </tbody>\n",
              "</table>\n",
              "</div>\n",
              "      <button class=\"colab-df-convert\" onclick=\"convertToInteractive('df-99e49bfa-74fc-4d84-90f0-1f28b4ecfc22')\"\n",
              "              title=\"Convert this dataframe to an interactive table.\"\n",
              "              style=\"display:none;\">\n",
              "        \n",
              "  <svg xmlns=\"http://www.w3.org/2000/svg\" height=\"24px\"viewBox=\"0 0 24 24\"\n",
              "       width=\"24px\">\n",
              "    <path d=\"M0 0h24v24H0V0z\" fill=\"none\"/>\n",
              "    <path d=\"M18.56 5.44l.94 2.06.94-2.06 2.06-.94-2.06-.94-.94-2.06-.94 2.06-2.06.94zm-11 1L8.5 8.5l.94-2.06 2.06-.94-2.06-.94L8.5 2.5l-.94 2.06-2.06.94zm10 10l.94 2.06.94-2.06 2.06-.94-2.06-.94-.94-2.06-.94 2.06-2.06.94z\"/><path d=\"M17.41 7.96l-1.37-1.37c-.4-.4-.92-.59-1.43-.59-.52 0-1.04.2-1.43.59L10.3 9.45l-7.72 7.72c-.78.78-.78 2.05 0 2.83L4 21.41c.39.39.9.59 1.41.59.51 0 1.02-.2 1.41-.59l7.78-7.78 2.81-2.81c.8-.78.8-2.07 0-2.86zM5.41 20L4 18.59l7.72-7.72 1.47 1.35L5.41 20z\"/>\n",
              "  </svg>\n",
              "      </button>\n",
              "      \n",
              "  <style>\n",
              "    .colab-df-container {\n",
              "      display:flex;\n",
              "      flex-wrap:wrap;\n",
              "      gap: 12px;\n",
              "    }\n",
              "\n",
              "    .colab-df-convert {\n",
              "      background-color: #E8F0FE;\n",
              "      border: none;\n",
              "      border-radius: 50%;\n",
              "      cursor: pointer;\n",
              "      display: none;\n",
              "      fill: #1967D2;\n",
              "      height: 32px;\n",
              "      padding: 0 0 0 0;\n",
              "      width: 32px;\n",
              "    }\n",
              "\n",
              "    .colab-df-convert:hover {\n",
              "      background-color: #E2EBFA;\n",
              "      box-shadow: 0px 1px 2px rgba(60, 64, 67, 0.3), 0px 1px 3px 1px rgba(60, 64, 67, 0.15);\n",
              "      fill: #174EA6;\n",
              "    }\n",
              "\n",
              "    [theme=dark] .colab-df-convert {\n",
              "      background-color: #3B4455;\n",
              "      fill: #D2E3FC;\n",
              "    }\n",
              "\n",
              "    [theme=dark] .colab-df-convert:hover {\n",
              "      background-color: #434B5C;\n",
              "      box-shadow: 0px 1px 3px 1px rgba(0, 0, 0, 0.15);\n",
              "      filter: drop-shadow(0px 1px 2px rgba(0, 0, 0, 0.3));\n",
              "      fill: #FFFFFF;\n",
              "    }\n",
              "  </style>\n",
              "\n",
              "      <script>\n",
              "        const buttonEl =\n",
              "          document.querySelector('#df-99e49bfa-74fc-4d84-90f0-1f28b4ecfc22 button.colab-df-convert');\n",
              "        buttonEl.style.display =\n",
              "          google.colab.kernel.accessAllowed ? 'block' : 'none';\n",
              "\n",
              "        async function convertToInteractive(key) {\n",
              "          const element = document.querySelector('#df-99e49bfa-74fc-4d84-90f0-1f28b4ecfc22');\n",
              "          const dataTable =\n",
              "            await google.colab.kernel.invokeFunction('convertToInteractive',\n",
              "                                                     [key], {});\n",
              "          if (!dataTable) return;\n",
              "\n",
              "          const docLinkHtml = 'Like what you see? Visit the ' +\n",
              "            '<a target=\"_blank\" href=https://colab.research.google.com/notebooks/data_table.ipynb>data table notebook</a>'\n",
              "            + ' to learn more about interactive tables.';\n",
              "          element.innerHTML = '';\n",
              "          dataTable['output_type'] = 'display_data';\n",
              "          await google.colab.output.renderOutput(dataTable, element);\n",
              "          const docLink = document.createElement('div');\n",
              "          docLink.innerHTML = docLinkHtml;\n",
              "          element.appendChild(docLink);\n",
              "        }\n",
              "      </script>\n",
              "    </div>\n",
              "  </div>\n",
              "  "
            ]
          },
          "metadata": {},
          "execution_count": 40
        }
      ]
    },
    {
      "cell_type": "markdown",
      "source": [
        "*** Se importa KN de la librería sklearn\n",
        "Se crea el modelo y classifier nos ayuda a ajustar los parametros del modelo, se indican 3 vecinos\n",
        "\n",
        "---\n",
        "\n"
      ],
      "metadata": {
        "id": "MsweiGOLkraX"
      }
    },
    {
      "cell_type": "code",
      "source": [
        "from sklearn.neighbors import KNeighborsClassifier\n",
        "classifier = KNeighborsClassifier(n_neighbors= 3, metric= 'euclidean', p=2)\n",
        "classifier.fit(features_final,y) "
      ],
      "metadata": {
        "colab": {
          "base_uri": "https://localhost:8080/"
        },
        "id": "3gKwg_vNddi_",
        "outputId": "bbb99b35-04ef-49a2-c2b4-4046f3785b00"
      },
      "execution_count": 41,
      "outputs": [
        {
          "output_type": "execute_result",
          "data": {
            "text/plain": [
              "KNeighborsClassifier(metric='euclidean', n_neighbors=3)"
            ]
          },
          "metadata": {},
          "execution_count": 41
        }
      ]
    },
    {
      "cell_type": "markdown",
      "source": [
        "*** Se realiza la predicción\n",
        "\n",
        "\n",
        "---\n",
        "\n",
        "\n",
        "\n"
      ],
      "metadata": {
        "id": "kQTEm8AAkzLg"
      }
    },
    {
      "cell_type": "code",
      "source": [
        "y_pred = classifier.predict(features_final)"
      ],
      "metadata": {
        "id": "4kTQ49mMdZRk"
      },
      "execution_count": 42,
      "outputs": []
    },
    {
      "cell_type": "markdown",
      "source": [
        "*** Se crea dataframe a partir de diccionario, los valores originales y los valores que el modelo predijo"
      ],
      "metadata": {
        "id": "4SXFiu_EJkke"
      }
    },
    {
      "cell_type": "code",
      "source": [
        "pd.DataFrame({'y':y, 'y pred':y_pred})"
      ],
      "metadata": {
        "colab": {
          "base_uri": "https://localhost:8080/",
          "height": 655
        },
        "id": "d_lj15Y9Jeqq",
        "outputId": "6fc2eec7-95a0-4755-cef6-7501f446c48a"
      },
      "execution_count": 120,
      "outputs": [
        {
          "output_type": "execute_result",
          "data": {
            "text/plain": [
              "                              y          y pred\n",
              "0                    Government      Government\n",
              "1                    Government      Government\n",
              "2                Private sector  Private sector\n",
              "3                      Military      Government\n",
              "4    Government, Private sector      Government\n",
              "..                          ...             ...\n",
              "469                  Government      Government\n",
              "470                  Government      Government\n",
              "471                    Military      Government\n",
              "472                    Military      Government\n",
              "473        Military, Government      Government\n",
              "\n",
              "[433 rows x 2 columns]"
            ],
            "text/html": [
              "\n",
              "  <div id=\"df-fda9804c-511e-4931-9fbc-636f61b68831\">\n",
              "    <div class=\"colab-df-container\">\n",
              "      <div>\n",
              "<style scoped>\n",
              "    .dataframe tbody tr th:only-of-type {\n",
              "        vertical-align: middle;\n",
              "    }\n",
              "\n",
              "    .dataframe tbody tr th {\n",
              "        vertical-align: top;\n",
              "    }\n",
              "\n",
              "    .dataframe thead th {\n",
              "        text-align: right;\n",
              "    }\n",
              "</style>\n",
              "<table border=\"1\" class=\"dataframe\">\n",
              "  <thead>\n",
              "    <tr style=\"text-align: right;\">\n",
              "      <th></th>\n",
              "      <th>y</th>\n",
              "      <th>y pred</th>\n",
              "    </tr>\n",
              "  </thead>\n",
              "  <tbody>\n",
              "    <tr>\n",
              "      <th>0</th>\n",
              "      <td>Government</td>\n",
              "      <td>Government</td>\n",
              "    </tr>\n",
              "    <tr>\n",
              "      <th>1</th>\n",
              "      <td>Government</td>\n",
              "      <td>Government</td>\n",
              "    </tr>\n",
              "    <tr>\n",
              "      <th>2</th>\n",
              "      <td>Private sector</td>\n",
              "      <td>Private sector</td>\n",
              "    </tr>\n",
              "    <tr>\n",
              "      <th>3</th>\n",
              "      <td>Military</td>\n",
              "      <td>Government</td>\n",
              "    </tr>\n",
              "    <tr>\n",
              "      <th>4</th>\n",
              "      <td>Government, Private sector</td>\n",
              "      <td>Government</td>\n",
              "    </tr>\n",
              "    <tr>\n",
              "      <th>...</th>\n",
              "      <td>...</td>\n",
              "      <td>...</td>\n",
              "    </tr>\n",
              "    <tr>\n",
              "      <th>469</th>\n",
              "      <td>Government</td>\n",
              "      <td>Government</td>\n",
              "    </tr>\n",
              "    <tr>\n",
              "      <th>470</th>\n",
              "      <td>Government</td>\n",
              "      <td>Government</td>\n",
              "    </tr>\n",
              "    <tr>\n",
              "      <th>471</th>\n",
              "      <td>Military</td>\n",
              "      <td>Government</td>\n",
              "    </tr>\n",
              "    <tr>\n",
              "      <th>472</th>\n",
              "      <td>Military</td>\n",
              "      <td>Government</td>\n",
              "    </tr>\n",
              "    <tr>\n",
              "      <th>473</th>\n",
              "      <td>Military, Government</td>\n",
              "      <td>Government</td>\n",
              "    </tr>\n",
              "  </tbody>\n",
              "</table>\n",
              "<p>433 rows × 2 columns</p>\n",
              "</div>\n",
              "      <button class=\"colab-df-convert\" onclick=\"convertToInteractive('df-fda9804c-511e-4931-9fbc-636f61b68831')\"\n",
              "              title=\"Convert this dataframe to an interactive table.\"\n",
              "              style=\"display:none;\">\n",
              "        \n",
              "  <svg xmlns=\"http://www.w3.org/2000/svg\" height=\"24px\"viewBox=\"0 0 24 24\"\n",
              "       width=\"24px\">\n",
              "    <path d=\"M0 0h24v24H0V0z\" fill=\"none\"/>\n",
              "    <path d=\"M18.56 5.44l.94 2.06.94-2.06 2.06-.94-2.06-.94-.94-2.06-.94 2.06-2.06.94zm-11 1L8.5 8.5l.94-2.06 2.06-.94-2.06-.94L8.5 2.5l-.94 2.06-2.06.94zm10 10l.94 2.06.94-2.06 2.06-.94-2.06-.94-.94-2.06-.94 2.06-2.06.94z\"/><path d=\"M17.41 7.96l-1.37-1.37c-.4-.4-.92-.59-1.43-.59-.52 0-1.04.2-1.43.59L10.3 9.45l-7.72 7.72c-.78.78-.78 2.05 0 2.83L4 21.41c.39.39.9.59 1.41.59.51 0 1.02-.2 1.41-.59l7.78-7.78 2.81-2.81c.8-.78.8-2.07 0-2.86zM5.41 20L4 18.59l7.72-7.72 1.47 1.35L5.41 20z\"/>\n",
              "  </svg>\n",
              "      </button>\n",
              "      \n",
              "  <style>\n",
              "    .colab-df-container {\n",
              "      display:flex;\n",
              "      flex-wrap:wrap;\n",
              "      gap: 12px;\n",
              "    }\n",
              "\n",
              "    .colab-df-convert {\n",
              "      background-color: #E8F0FE;\n",
              "      border: none;\n",
              "      border-radius: 50%;\n",
              "      cursor: pointer;\n",
              "      display: none;\n",
              "      fill: #1967D2;\n",
              "      height: 32px;\n",
              "      padding: 0 0 0 0;\n",
              "      width: 32px;\n",
              "    }\n",
              "\n",
              "    .colab-df-convert:hover {\n",
              "      background-color: #E2EBFA;\n",
              "      box-shadow: 0px 1px 2px rgba(60, 64, 67, 0.3), 0px 1px 3px 1px rgba(60, 64, 67, 0.15);\n",
              "      fill: #174EA6;\n",
              "    }\n",
              "\n",
              "    [theme=dark] .colab-df-convert {\n",
              "      background-color: #3B4455;\n",
              "      fill: #D2E3FC;\n",
              "    }\n",
              "\n",
              "    [theme=dark] .colab-df-convert:hover {\n",
              "      background-color: #434B5C;\n",
              "      box-shadow: 0px 1px 3px 1px rgba(0, 0, 0, 0.15);\n",
              "      filter: drop-shadow(0px 1px 2px rgba(0, 0, 0, 0.3));\n",
              "      fill: #FFFFFF;\n",
              "    }\n",
              "  </style>\n",
              "\n",
              "      <script>\n",
              "        const buttonEl =\n",
              "          document.querySelector('#df-fda9804c-511e-4931-9fbc-636f61b68831 button.colab-df-convert');\n",
              "        buttonEl.style.display =\n",
              "          google.colab.kernel.accessAllowed ? 'block' : 'none';\n",
              "\n",
              "        async function convertToInteractive(key) {\n",
              "          const element = document.querySelector('#df-fda9804c-511e-4931-9fbc-636f61b68831');\n",
              "          const dataTable =\n",
              "            await google.colab.kernel.invokeFunction('convertToInteractive',\n",
              "                                                     [key], {});\n",
              "          if (!dataTable) return;\n",
              "\n",
              "          const docLinkHtml = 'Like what you see? Visit the ' +\n",
              "            '<a target=\"_blank\" href=https://colab.research.google.com/notebooks/data_table.ipynb>data table notebook</a>'\n",
              "            + ' to learn more about interactive tables.';\n",
              "          element.innerHTML = '';\n",
              "          dataTable['output_type'] = 'display_data';\n",
              "          await google.colab.output.renderOutput(dataTable, element);\n",
              "          const docLink = document.createElement('div');\n",
              "          docLink.innerHTML = docLinkHtml;\n",
              "          element.appendChild(docLink);\n",
              "        }\n",
              "      </script>\n",
              "    </div>\n",
              "  </div>\n",
              "  "
            ]
          },
          "metadata": {},
          "execution_count": 120
        }
      ]
    },
    {
      "cell_type": "code",
      "source": [
        "#importar librerías para métricas\n",
        "from sklearn.metrics import classification_report\n",
        "from sklearn.metrics import recall_score\n",
        "from sklearn.metrics import f1_score\n",
        "from sklearn.metrics import confusion_matrix\n",
        "from sklearn.metrics import accuracy_score\n",
        "from sklearn.metrics import roc_auc_score"
      ],
      "metadata": {
        "id": "jS2L6Qx6dvX7"
      },
      "execution_count": 72,
      "outputs": []
    },
    {
      "cell_type": "code",
      "source": [
        "#Precisión\n",
        "accuracy_score(y,y_pred)"
      ],
      "metadata": {
        "colab": {
          "base_uri": "https://localhost:8080/"
        },
        "id": "HxP9eiHEdwQ6",
        "outputId": "e719668f-94ab-4460-a533-cada4c5961b7"
      },
      "execution_count": 73,
      "outputs": [
        {
          "output_type": "execute_result",
          "data": {
            "text/plain": [
              "0.25635103926096997"
            ]
          },
          "metadata": {},
          "execution_count": 73
        }
      ]
    },
    {
      "cell_type": "code",
      "source": [
        "#Sensibilidad\n",
        "recall_score(y, y_pred,average='weighted')"
      ],
      "metadata": {
        "colab": {
          "base_uri": "https://localhost:8080/"
        },
        "id": "uOujsj5-dyig",
        "outputId": "f083b92e-2803-4f73-921f-e889f3f3b2a3"
      },
      "execution_count": 74,
      "outputs": [
        {
          "output_type": "execute_result",
          "data": {
            "text/plain": [
              "0.25635103926096997"
            ]
          },
          "metadata": {},
          "execution_count": 74
        }
      ]
    },
    {
      "cell_type": "code",
      "source": [
        "#Puntuación F1\n",
        "f1_score(y, y_pred, average= 'weighted')"
      ],
      "metadata": {
        "colab": {
          "base_uri": "https://localhost:8080/"
        },
        "id": "2imvxZMGfi6e",
        "outputId": "4b80512c-0dfa-46af-d5f2-e7b4fef83b9c"
      },
      "execution_count": 75,
      "outputs": [
        {
          "output_type": "execute_result",
          "data": {
            "text/plain": [
              "0.16982166778737576"
            ]
          },
          "metadata": {},
          "execution_count": 75
        }
      ]
    },
    {
      "cell_type": "markdown",
      "source": [
        "*** Matriz de confusión"
      ],
      "metadata": {
        "id": "q9LOEh-EKGKg"
      }
    },
    {
      "cell_type": "code",
      "source": [
        "confusion_matrix(y,y_pred)"
      ],
      "metadata": {
        "colab": {
          "base_uri": "https://localhost:8080/"
        },
        "id": "fqySShl2fmhL",
        "outputId": "1a4187cf-e5a9-4403-95c7-a3361b58c692"
      },
      "execution_count": 76,
      "outputs": [
        {
          "output_type": "execute_result",
          "data": {
            "text/plain": [
              "array([[ 0,  0,  0,  0, 46,  3,  0,  0,  3,  0,  0,  0,  0,  0,  0,  0,\n",
              "         0,  0,  0,  0,  0,  0],\n",
              "       [ 0,  0,  0,  0,  5,  0,  0,  0,  0,  0,  0,  0,  0,  0,  0,  0,\n",
              "         0,  0,  0,  0,  0,  0],\n",
              "       [ 0,  0,  1,  0,  5,  0,  0,  0,  0,  0,  0,  0,  0,  0,  0,  0,\n",
              "         0,  0,  0,  0,  0,  0],\n",
              "       [ 0,  0,  0,  0,  2,  0,  0,  0,  0,  0,  0,  0,  0,  0,  0,  0,\n",
              "         0,  0,  0,  0,  0,  0],\n",
              "       [ 0,  0,  5,  0, 89,  0,  0,  0,  4,  0,  0,  0,  0,  0,  0,  4,\n",
              "         0,  0,  0,  0,  0,  0],\n",
              "       [ 0,  0,  0,  0, 12,  2,  0,  0,  0,  0,  0,  0,  0,  0,  0,  0,\n",
              "         0,  0,  0,  0,  0,  0],\n",
              "       [ 0,  0,  0,  0,  1,  0,  0,  0,  0,  0,  0,  0,  0,  0,  0,  0,\n",
              "         0,  0,  0,  0,  0,  0],\n",
              "       [ 0,  0,  2,  0, 14,  0,  0,  0,  0,  0,  0,  0,  0,  0,  0,  1,\n",
              "         0,  0,  0,  0,  0,  0],\n",
              "       [ 0,  0,  1,  0, 42,  0,  0,  0,  1,  0,  0,  0,  0,  0,  0,  1,\n",
              "         0,  0,  0,  0,  0,  0],\n",
              "       [ 0,  0,  0,  0, 11,  0,  0,  0,  1,  0,  0,  0,  0,  0,  0,  0,\n",
              "         0,  0,  0,  0,  0,  0],\n",
              "       [ 0,  0,  1,  0, 17,  0,  0,  0,  3,  0,  0,  0,  0,  0,  0,  0,\n",
              "         0,  0,  0,  0,  0,  0],\n",
              "       [ 0,  0,  0,  0,  2,  0,  0,  0,  0,  0,  0,  0,  0,  0,  0,  0,\n",
              "         0,  0,  0,  0,  0,  0],\n",
              "       [ 0,  0,  1,  0,  7,  0,  0,  0,  0,  0,  0,  0,  0,  0,  0,  0,\n",
              "         0,  0,  0,  0,  0,  0],\n",
              "       [ 0,  0,  0,  0,  1,  0,  0,  0,  0,  0,  0,  0,  0,  0,  0,  0,\n",
              "         0,  0,  0,  0,  0,  0],\n",
              "       [ 0,  0,  0,  0,  2,  0,  0,  0,  0,  0,  0,  0,  0,  0,  0,  1,\n",
              "         0,  0,  0,  0,  0,  0],\n",
              "       [ 0,  0,  7,  0, 86,  1,  0,  0, 10,  0,  0,  0,  0,  0,  0, 18,\n",
              "         0,  0,  0,  0,  0,  0],\n",
              "       [ 0,  0,  0,  0,  2,  0,  0,  0,  0,  0,  0,  0,  0,  0,  0,  0,\n",
              "         0,  0,  0,  0,  0,  0],\n",
              "       [ 0,  0,  0,  0, 11,  0,  0,  0,  0,  0,  0,  0,  0,  0,  0,  1,\n",
              "         0,  0,  0,  0,  0,  0],\n",
              "       [ 0,  0,  0,  0,  1,  0,  0,  0,  0,  0,  0,  0,  0,  0,  0,  0,\n",
              "         0,  0,  0,  0,  0,  0],\n",
              "       [ 0,  0,  0,  0,  1,  0,  0,  0,  0,  0,  0,  0,  0,  0,  0,  0,\n",
              "         0,  0,  0,  0,  0,  0],\n",
              "       [ 0,  0,  0,  0,  1,  0,  0,  0,  0,  0,  0,  0,  0,  0,  0,  0,\n",
              "         0,  0,  0,  0,  0,  0],\n",
              "       [ 0,  0,  0,  0,  3,  0,  0,  0,  0,  0,  0,  0,  0,  0,  0,  0,\n",
              "         0,  0,  0,  0,  0,  0]])"
            ]
          },
          "metadata": {},
          "execution_count": 76
        }
      ]
    },
    {
      "cell_type": "code",
      "source": [
        "labels = df2['Type'].unique()\n",
        "labels"
      ],
      "metadata": {
        "colab": {
          "base_uri": "https://localhost:8080/"
        },
        "id": "FRvTK8yWKu9R",
        "outputId": "cd2f2c19-3fbe-4523-a5a8-b9e0f69d42fd"
      },
      "execution_count": 77,
      "outputs": [
        {
          "output_type": "execute_result",
          "data": {
            "text/plain": [
              "array(['Espionage', 'Data destruction', 'Financial Theft', 'Sabotage',\n",
              "       'Defacement', 'Denial of service', 'Doxing'], dtype=object)"
            ]
          },
          "metadata": {},
          "execution_count": 77
        }
      ]
    },
    {
      "cell_type": "markdown",
      "source": [
        "**** Se visualizan los datos, primero indicando las variables categoricas \n",
        "\n",
        "---\n",
        "\n"
      ],
      "metadata": {
        "id": "1hZ4PTTPlJIx"
      }
    },
    {
      "cell_type": "code",
      "source": [
        "categorical = [\"Type\"]"
      ],
      "metadata": {
        "id": "KZ6-VZyOil61"
      },
      "execution_count": 48,
      "outputs": []
    },
    {
      "cell_type": "code",
      "source": [
        "categorical_axis_name = [\"Category\"]"
      ],
      "metadata": {
        "id": "P9gwlnoSjIbs"
      },
      "execution_count": 49,
      "outputs": []
    },
    {
      "cell_type": "code",
      "source": [
        "list(zip(categorical,categorical_axis_name))"
      ],
      "metadata": {
        "colab": {
          "base_uri": "https://localhost:8080/"
        },
        "id": "v2Jh4zMIjFHs",
        "outputId": "f83466b1-71d2-4106-f4fd-b6801e2faf60"
      },
      "execution_count": 50,
      "outputs": [
        {
          "output_type": "execute_result",
          "data": {
            "text/plain": [
              "[('Type', 'Category')]"
            ]
          },
          "metadata": {},
          "execution_count": 50
        }
      ]
    },
    {
      "cell_type": "markdown",
      "source": [
        "** Se visualizan los datos divididos por tipo de ataques\n",
        "\n",
        "\n",
        "---\n",
        "\n",
        "\n"
      ],
      "metadata": {
        "id": "8ZlPIwYYlSVf"
      }
    },
    {
      "cell_type": "code",
      "source": [
        "title_font = {\"family\": \"arial\", \"color\":\"darkgreen\",\"weight\":\"bold\",\"size\":15}\n",
        "axis_font = {\"family\": \"arial\", \"color\":\"darkred\",\"weight\":\"bold\",\"size\":10}\n",
        "for i,z in list(zip(categorical,categorical_axis_name)):\n",
        "    fig, axis = plt.subplots(figsize=(10,6))\n",
        "    \n",
        "    observational_values = list(df2[i].value_counts().index)\n",
        "    total_observation_values = list(df2[i].value_counts())\n",
        "    \n",
        "    axis.pie(total_observation_values,labels= observational_values, autopct = \"%1.1f%%\",startangle = 0 , labeldistance = 1.0)\n",
        "    axis.axis(\"equal\")\n",
        "    \n",
        "    plt.title((i+ \"(\" + z + \")\"), fontdict = title_font)\n",
        "    plt.legend()\n",
        "    plt.show()"
      ],
      "metadata": {
        "colab": {
          "base_uri": "https://localhost:8080/",
          "height": 392
        },
        "id": "vIk_SCn1kgqS",
        "outputId": "f2e3454d-8c90-4307-f4f6-bf9056dc6a4a"
      },
      "execution_count": 51,
      "outputs": [
        {
          "output_type": "stream",
          "name": "stderr",
          "text": [
            "WARNING:matplotlib.font_manager:findfont: Font family ['arial'] not found. Falling back to DejaVu Sans.\n"
          ]
        },
        {
          "output_type": "display_data",
          "data": {
            "text/plain": [
              "<Figure size 720x432 with 1 Axes>"
            ],
            "image/png": "[encoded data removed]"
          },
          "metadata": {}
        }
      ]
    },
    {
      "cell_type": "markdown",
      "source": [
        "*** Se visualizan los tipos de ataques con referencia a las categorías que recibieron el ataque\n",
        "\n",
        "---\n",
        "\n"
      ],
      "metadata": {
        "id": "-aLpbW4llaJA"
      }
    },
    {
      "cell_type": "code",
      "source": [
        "title_font = {\"family\": \"arial\", \"color\":\"darkgreen\",\"weight\":\"bold\",\"size\":20}\n",
        "axis_font = {\"family\": \"arial\", \"color\":\"darkred\",\"weight\":\"bold\",\"size\":15}\n",
        "for i,x in list(zip(categorical,categorical_axis_name)):\n",
        "    plt.figure(figsize = (10,5))\n",
        "    sns.countplot(i,data = df2[categorical], hue = \"Type\")\n",
        "    \n",
        "    plt.title(i, fontdict = title_font)\n",
        "    plt.xlabel(x, fontdict= axis_font)\n",
        "    plt.ylabel(\"Category\", fontdict = axis_font)\n",
        "    \n",
        "    plt.tight_layout()\n",
        "    plt.show()"
      ],
      "metadata": {
        "colab": {
          "base_uri": "https://localhost:8080/",
          "height": 441
        },
        "id": "H7r3tzGFme4E",
        "outputId": "fbf07530-e55f-417d-9663-3f43c4731499"
      },
      "execution_count": 52,
      "outputs": [
        {
          "output_type": "stream",
          "name": "stderr",
          "text": [
            "/usr/local/lib/python3.8/dist-packages/seaborn/_decorators.py:36: FutureWarning: Pass the following variable as a keyword arg: x. From version 0.12, the only valid positional argument will be `data`, and passing other arguments without an explicit keyword will result in an error or misinterpretation.\n",
            "  warnings.warn(\n",
            "WARNING:matplotlib.font_manager:findfont: Font family ['arial'] not found. Falling back to DejaVu Sans.\n"
          ]
        },
        {
          "output_type": "display_data",
          "data": {
            "text/plain": [
              "<Figure size 720x360 with 1 Axes>"
            ],
            "image/png": "[encoded data removed]"
          },
          "metadata": {
            "needs_background": "light"
          }
        }
      ]
    },
    {
      "cell_type": "markdown",
      "source": [
        "**** Se definen los tipos de los datos\n",
        "\n",
        "---\n",
        "\n"
      ],
      "metadata": {
        "id": "eOu2hql2lgXA"
      }
    },
    {
      "cell_type": "code",
      "source": [
        "print(df2.dtypes)"
      ],
      "metadata": {
        "colab": {
          "base_uri": "https://localhost:8080/"
        },
        "id": "ksEwgeKKtuKX",
        "outputId": "78cdf4eb-248c-4f4b-ebdf-a83bfb186729"
      },
      "execution_count": 53,
      "outputs": [
        {
          "output_type": "stream",
          "name": "stdout",
          "text": [
            "Date        object\n",
            "Type        object\n",
            "Category    object\n",
            "dtype: object\n"
          ]
        }
      ]
    },
    {
      "cell_type": "markdown",
      "source": [
        "**** Se indica la fecha por año\n",
        "\n",
        "---\n",
        "\n"
      ],
      "metadata": {
        "id": "en-f7zt8llwD"
      }
    },
    {
      "cell_type": "code",
      "source": [
        "df2['Year'] = pd.to_datetime(df2['Date']).dt.year\n",
        "df2.set_index('Year')"
      ],
      "metadata": {
        "colab": {
          "base_uri": "https://localhost:8080/",
          "height": 559
        },
        "id": "GNujCL0Vs3_p",
        "outputId": "6abaa655-a62f-4166-94ce-026d44fa4d77"
      },
      "execution_count": 54,
      "outputs": [
        {
          "output_type": "stream",
          "name": "stderr",
          "text": [
            "<ipython-input-54-b40c1eb5c570>:1: SettingWithCopyWarning: \n",
            "A value is trying to be set on a copy of a slice from a DataFrame.\n",
            "Try using .loc[row_indexer,col_indexer] = value instead\n",
            "\n",
            "See the caveats in the documentation: https://pandas.pydata.org/pandas-docs/stable/user_guide/indexing.html#returning-a-view-versus-a-copy\n",
            "  df2['Year'] = pd.to_datetime(df2['Date']).dt.year\n"
          ]
        },
        {
          "output_type": "execute_result",
          "data": {
            "text/plain": [
              "           Date              Type                    Category\n",
              "Year                                                         \n",
              "2020  2/13/2020         Espionage                  Government\n",
              "2020  1/23/2020         Espionage                  Government\n",
              "2020   4/6/2020  Data destruction              Private sector\n",
              "2020  2/16/2020         Espionage                    Military\n",
              "2020  8/10/2020         Espionage  Government, Private sector\n",
              "...         ...               ...                         ...\n",
              "2007  9/12/2007         Espionage                  Government\n",
              "2006  7/11/2006         Espionage                  Government\n",
              "2006  8/17/2006         Espionage                    Military\n",
              "2006  12/4/2006         Espionage                    Military\n",
              "2005  8/25/2005         Espionage        Military, Government\n",
              "\n",
              "[433 rows x 3 columns]"
            ],
            "text/html": [
              "\n",
              "  <div id=\"df-971b61c8-f3e3-4ab3-94ce-f1538fed4f91\">\n",
              "    <div class=\"colab-df-container\">\n",
              "      <div>\n",
              "<style scoped>\n",
              "    .dataframe tbody tr th:only-of-type {\n",
              "        vertical-align: middle;\n",
              "    }\n",
              "\n",
              "    .dataframe tbody tr th {\n",
              "        vertical-align: top;\n",
              "    }\n",
              "\n",
              "    .dataframe thead th {\n",
              "        text-align: right;\n",
              "    }\n",
              "</style>\n",
              "<table border=\"1\" class=\"dataframe\">\n",
              "  <thead>\n",
              "    <tr style=\"text-align: right;\">\n",
              "      <th></th>\n",
              "      <th>Date</th>\n",
              "      <th>Type</th>\n",
              "      <th>Category</th>\n",
              "    </tr>\n",
              "    <tr>\n",
              "      <th>Year</th>\n",
              "      <th></th>\n",
              "      <th></th>\n",
              "      <th></th>\n",
              "    </tr>\n",
              "  </thead>\n",
              "  <tbody>\n",
              "    <tr>\n",
              "      <th>2020</th>\n",
              "      <td>2/13/2020</td>\n",
              "      <td>Espionage</td>\n",
              "      <td>Government</td>\n",
              "    </tr>\n",
              "    <tr>\n",
              "      <th>2020</th>\n",
              "      <td>1/23/2020</td>\n",
              "      <td>Espionage</td>\n",
              "      <td>Government</td>\n",
              "    </tr>\n",
              "    <tr>\n",
              "      <th>2020</th>\n",
              "      <td>4/6/2020</td>\n",
              "      <td>Data destruction</td>\n",
              "      <td>Private sector</td>\n",
              "    </tr>\n",
              "    <tr>\n",
              "      <th>2020</th>\n",
              "      <td>2/16/2020</td>\n",
              "      <td>Espionage</td>\n",
              "      <td>Military</td>\n",
              "    </tr>\n",
              "    <tr>\n",
              "      <th>2020</th>\n",
              "      <td>8/10/2020</td>\n",
              "      <td>Espionage</td>\n",
              "      <td>Government, Private sector</td>\n",
              "    </tr>\n",
              "    <tr>\n",
              "      <th>...</th>\n",
              "      <td>...</td>\n",
              "      <td>...</td>\n",
              "      <td>...</td>\n",
              "    </tr>\n",
              "    <tr>\n",
              "      <th>2007</th>\n",
              "      <td>9/12/2007</td>\n",
              "      <td>Espionage</td>\n",
              "      <td>Government</td>\n",
              "    </tr>\n",
              "    <tr>\n",
              "      <th>2006</th>\n",
              "      <td>7/11/2006</td>\n",
              "      <td>Espionage</td>\n",
              "      <td>Government</td>\n",
              "    </tr>\n",
              "    <tr>\n",
              "      <th>2006</th>\n",
              "      <td>8/17/2006</td>\n",
              "      <td>Espionage</td>\n",
              "      <td>Military</td>\n",
              "    </tr>\n",
              "    <tr>\n",
              "      <th>2006</th>\n",
              "      <td>12/4/2006</td>\n",
              "      <td>Espionage</td>\n",
              "      <td>Military</td>\n",
              "    </tr>\n",
              "    <tr>\n",
              "      <th>2005</th>\n",
              "      <td>8/25/2005</td>\n",
              "      <td>Espionage</td>\n",
              "      <td>Military, Government</td>\n",
              "    </tr>\n",
              "  </tbody>\n",
              "</table>\n",
              "<p>433 rows × 3 columns</p>\n",
              "</div>\n",
              "      <button class=\"colab-df-convert\" onclick=\"convertToInteractive('df-971b61c8-f3e3-4ab3-94ce-f1538fed4f91')\"\n",
              "              title=\"Convert this dataframe to an interactive table.\"\n",
              "              style=\"display:none;\">\n",
              "        \n",
              "  <svg xmlns=\"http://www.w3.org/2000/svg\" height=\"24px\"viewBox=\"0 0 24 24\"\n",
              "       width=\"24px\">\n",
              "    <path d=\"M0 0h24v24H0V0z\" fill=\"none\"/>\n",
              "    <path d=\"M18.56 5.44l.94 2.06.94-2.06 2.06-.94-2.06-.94-.94-2.06-.94 2.06-2.06.94zm-11 1L8.5 8.5l.94-2.06 2.06-.94-2.06-.94L8.5 2.5l-.94 2.06-2.06.94zm10 10l.94 2.06.94-2.06 2.06-.94-2.06-.94-.94-2.06-.94 2.06-2.06.94z\"/><path d=\"M17.41 7.96l-1.37-1.37c-.4-.4-.92-.59-1.43-.59-.52 0-1.04.2-1.43.59L10.3 9.45l-7.72 7.72c-.78.78-.78 2.05 0 2.83L4 21.41c.39.39.9.59 1.41.59.51 0 1.02-.2 1.41-.59l7.78-7.78 2.81-2.81c.8-.78.8-2.07 0-2.86zM5.41 20L4 18.59l7.72-7.72 1.47 1.35L5.41 20z\"/>\n",
              "  </svg>\n",
              "      </button>\n",
              "      \n",
              "  <style>\n",
              "    .colab-df-container {\n",
              "      display:flex;\n",
              "      flex-wrap:wrap;\n",
              "      gap: 12px;\n",
              "    }\n",
              "\n",
              "    .colab-df-convert {\n",
              "      background-color: #E8F0FE;\n",
              "      border: none;\n",
              "      border-radius: 50%;\n",
              "      cursor: pointer;\n",
              "      display: none;\n",
              "      fill: #1967D2;\n",
              "      height: 32px;\n",
              "      padding: 0 0 0 0;\n",
              "      width: 32px;\n",
              "    }\n",
              "\n",
              "    .colab-df-convert:hover {\n",
              "      background-color: #E2EBFA;\n",
              "      box-shadow: 0px 1px 2px rgba(60, 64, 67, 0.3), 0px 1px 3px 1px rgba(60, 64, 67, 0.15);\n",
              "      fill: #174EA6;\n",
              "    }\n",
              "\n",
              "    [theme=dark] .colab-df-convert {\n",
              "      background-color: #3B4455;\n",
              "      fill: #D2E3FC;\n",
              "    }\n",
              "\n",
              "    [theme=dark] .colab-df-convert:hover {\n",
              "      background-color: #434B5C;\n",
              "      box-shadow: 0px 1px 3px 1px rgba(0, 0, 0, 0.15);\n",
              "      filter: drop-shadow(0px 1px 2px rgba(0, 0, 0, 0.3));\n",
              "      fill: #FFFFFF;\n",
              "    }\n",
              "  </style>\n",
              "\n",
              "      <script>\n",
              "        const buttonEl =\n",
              "          document.querySelector('#df-971b61c8-f3e3-4ab3-94ce-f1538fed4f91 button.colab-df-convert');\n",
              "        buttonEl.style.display =\n",
              "          google.colab.kernel.accessAllowed ? 'block' : 'none';\n",
              "\n",
              "        async function convertToInteractive(key) {\n",
              "          const element = document.querySelector('#df-971b61c8-f3e3-4ab3-94ce-f1538fed4f91');\n",
              "          const dataTable =\n",
              "            await google.colab.kernel.invokeFunction('convertToInteractive',\n",
              "                                                     [key], {});\n",
              "          if (!dataTable) return;\n",
              "\n",
              "          const docLinkHtml = 'Like what you see? Visit the ' +\n",
              "            '<a target=\"_blank\" href=https://colab.research.google.com/notebooks/data_table.ipynb>data table notebook</a>'\n",
              "            + ' to learn more about interactive tables.';\n",
              "          element.innerHTML = '';\n",
              "          dataTable['output_type'] = 'display_data';\n",
              "          await google.colab.output.renderOutput(dataTable, element);\n",
              "          const docLink = document.createElement('div');\n",
              "          docLink.innerHTML = docLinkHtml;\n",
              "          element.appendChild(docLink);\n",
              "        }\n",
              "      </script>\n",
              "    </div>\n",
              "  </div>\n",
              "  "
            ]
          },
          "metadata": {},
          "execution_count": 54
        }
      ]
    },
    {
      "cell_type": "markdown",
      "source": [
        "** Se grafican las tipos de ataques por año\n",
        "\n",
        "---\n",
        "\n"
      ],
      "metadata": {
        "id": "B95I8kyNlsa1"
      }
    },
    {
      "cell_type": "code",
      "source": [
        "cyber_incidents.plot(kind='bar');                 \n",
        "\n",
        "plt.title(\"Most Common Incident Type from 2005-2020\")\n",
        "plt.xlabel(\"Incident Type\")\n",
        "plt.ylabel(\"Number of Incidents year\");"
      ],
      "metadata": {
        "colab": {
          "base_uri": "https://localhost:8080/",
          "height": 369
        },
        "id": "ZePB9LQ9qLvg",
        "outputId": "29a39a91-1631-4e63-a901-6457bf343bfb"
      },
      "execution_count": 55,
      "outputs": [
        {
          "output_type": "display_data",
          "data": {
            "text/plain": [
              "<Figure size 432x288 with 1 Axes>"
            ],
            "image/png": "[encoded data removed]"
          },
          "metadata": {
            "needs_background": "light"
          }
        }
      ]
    },
    {
      "cell_type": "markdown",
      "source": [
        "*** Se grafica el aumento de los ataques a partir del año 2005 a 2020\n",
        "\n",
        "---\n",
        "\n"
      ],
      "metadata": {
        "id": "axsnEcq6lypU"
      }
    },
    {
      "cell_type": "code",
      "source": [
        "df2[[\"Year\",\"Type\"]] \\\n",
        "            .groupby('Year') \\\n",
        "            .count() \\\n",
        "            .sort_values('Type', ascending=True)\\\n",
        "            .plot(kind='bar', figsize=(15,5));\n",
        "\n",
        "plt.title(\"The Growth of Cyber Incidents\")\n",
        "plt.xlabel(\"Incident Year\")\n",
        "plt.ylabel(\"Incident Type\");"
      ],
      "metadata": {
        "colab": {
          "base_uri": "https://localhost:8080/",
          "height": 365
        },
        "id": "9yZj8PUAsI2A",
        "outputId": "c1b62240-9d59-4cad-f1d6-d12879e04692"
      },
      "execution_count": 108,
      "outputs": [
        {
          "output_type": "display_data",
          "data": {
            "text/plain": [
              "<Figure size 1080x360 with 1 Axes>"
            ],
            "image/png": "[encoded data removed]"
          },
          "metadata": {
            "needs_background": "light"
          }
        }
      ]
    }
  ]
}